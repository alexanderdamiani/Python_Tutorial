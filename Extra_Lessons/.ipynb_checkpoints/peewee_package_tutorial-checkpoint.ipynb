{
 "cells": [
  {
   "cell_type": "markdown",
   "metadata": {},
   "source": [
    "## What is an ORM?\n",
    "\n",
    "### First describe what object-oriented programming is\n",
    "- object-oriented programming is a programming concept based on the concept of \"objects\"\n",
    "- \"objects\" contain data, known as \"fields\" or \"attributes\", and code specific to them, known as \"procedures\" or \"methods\"\n",
    "- One example would be a Car object\n",
    "    - fields: {number of wheels, gas mileage, color}\n",
    "    - methods: {change_color(), get_gas_mileage(), add_wheels()}\n",
    "\n",
    "### Compare object-oriented programming to SQL\n",
    "- SQL databases can only store and manipulate scalar values (integers and strings), and not objects\n",
    "- To load data into a database the values must be converted to simple types\n",
    "- To extract data from the database, they can only be extracted as simple values and then combined afterwards to make an object\n",
    "\n",
    "### How ORM solves our problem\n",
    "- ORM stands for Object-Relational Mapping\n",
    "- ORM converts our objects into a form that can be stored into the database, and extracted from\n",
    "- It also abstracts the conversion from us, by providing us simple code for doing so\n",
    "- Ultimately reduces the amount of code and complexity of it\n",
    "\n",
    "### peewee package\n",
    "- currently used at imedicare\n",
    "- python package that provides a small and simple ORM"
   ]
  },
  {
   "cell_type": "markdown",
   "metadata": {},
   "source": [
    "## peewee tutorial\n",
    "4 step process:\n",
    "- (1) Installation\n",
    "- (2) Model Definition\n",
    "- (3) Storing\n",
    "- (4) Retrieving"
   ]
  },
  {
   "cell_type": "markdown",
   "metadata": {},
   "source": [
    "### Installation\n",
    "- Options to install:\n",
    "    - (1) \n",
    "          pip install peewee\n",
    "    - (2) \n",
    "          git clone https://github.com/coleifer/peewee.git\n",
    "          cd peewee\n",
    "          python setup.py install\n",
    "\n",
    "- Any issues go to this link first https://stackoverflow.com/questions/2817869/error-unable-to-find-vcvarsall-bat "
   ]
  },
  {
   "cell_type": "markdown",
   "metadata": {},
   "source": [
    "### Model Definition"
   ]
  },
  {
   "cell_type": "code",
   "execution_count": 1,
   "metadata": {},
   "outputs": [],
   "source": [
    "# import * --> imports all functions and variables from the peewee package\n",
    "# all variables not previously defined come from the peewee class\n",
    "from peewee import *\n",
    "\n",
    "from datetime import date"
   ]
  },
  {
   "cell_type": "code",
   "execution_count": 2,
   "metadata": {},
   "outputs": [],
   "source": [
    "# SqliteDatabase is a lightweight disk-based database that doesn't require separate server\n",
    "# comes from peewee package\n",
    "db = SqliteDatabase('people.db')\n",
    "\n",
    "# Model comes from the peewee package\n",
    "class Person(Model):\n",
    "    '''\n",
    "    3 different data types, all which are provided by the peewee class\n",
    "    '''\n",
    "    name = CharField()\n",
    "    birthday = DateField()\n",
    "    is_relative = BooleanField()\n",
    "    \n",
    "    # Meta class required for every defined object to tell which database the object will use\n",
    "    class Meta:\n",
    "        database = db  # this class uses the 'people.db' database"
   ]
  },
  {
   "cell_type": "code",
   "execution_count": 3,
   "metadata": {
    "collapsed": true
   },
   "outputs": [],
   "source": [
    "# 'Pet' class uses owner variable to reference the 'Person' object\n",
    "class Pet(Model):\n",
    "    owner = ForeignKeyField(Person, related_name='pets') # reference to previous object 'Person'\n",
    "    name = CharField()\n",
    "    animal_type = CharField()\n",
    "\n",
    "    class Meta:\n",
    "        database = db # this model uses the \"people.db\" database"
   ]
  },
  {
   "cell_type": "code",
   "execution_count": 4,
   "metadata": {
    "collapsed": true
   },
   "outputs": [],
   "source": [
    "# connect to the database\n",
    "db.connect()"
   ]
  },
  {
   "cell_type": "code",
   "execution_count": 5,
   "metadata": {},
   "outputs": [],
   "source": [
    "# create tables in the database - using our previusly defined objects above\n",
    "# try and except block --> prevent code from breaking if you already have created the tables\n",
    "try:\n",
    "    db.create_tables([Person, Pet])\n",
    "except OperationalError:\n",
    "    print (\"Tables already exist.\")"
   ]
  },
  {
   "cell_type": "markdown",
   "metadata": {},
   "source": [
    "*** Pause here and check you file directory. You will see a file called 'people' with the type as 'Data Base File' ***"
   ]
  },
  {
   "cell_type": "markdown",
   "metadata": {},
   "source": [
    "### Storing"
   ]
  },
  {
   "cell_type": "code",
   "execution_count": 6,
   "metadata": {},
   "outputs": [
    {
     "data": {
      "text/plain": [
       "1"
      ]
     },
     "execution_count": 6,
     "metadata": {},
     "output_type": "execute_result"
    }
   ],
   "source": [
    "bob = Person(name='Bob', birthday=date(1960, 1, 15), is_relative=True)\n",
    "joe = Person(name='Joe', birthday=date(1960, 1, 15), is_relative=True)\n",
    "\n",
    "bob.save() # bob is now stored in the database\n",
    "joe.save() # joe is too\n",
    "\n",
    "# 1 is the number of rows that have been modified"
   ]
  },
  {
   "cell_type": "code",
   "execution_count": 7,
   "metadata": {
    "scrolled": true
   },
   "outputs": [
    {
     "data": {
      "text/plain": [
       "1"
      ]
     },
     "execution_count": 7,
     "metadata": {},
     "output_type": "execute_result"
    }
   ],
   "source": [
    "# Now create a 'Pet' object, with the owner as our 'Person' object above 'bob'\n",
    "bob_cat_1 = Pet(owner=bob, name='Mittens', animal_type='cat')\n",
    "bob_cat_2 = Pet(owner=bob, name='Spots', animal_type='cat')\n",
    "bob_cat_3 = Pet(owner=bob, name='Tom', animal_type='cat')\n",
    "\n",
    "bob_cat_1.save()\n",
    "bob_cat_2.save()\n",
    "bob_cat_3.save()"
   ]
  },
  {
   "cell_type": "code",
   "execution_count": 8,
   "metadata": {},
   "outputs": [
    {
     "data": {
      "text/plain": [
       "1"
      ]
     },
     "execution_count": 8,
     "metadata": {},
     "output_type": "execute_result"
    }
   ],
   "source": [
    "# delete the second 'Pet' from the database\n",
    "bob_cat_3.delete_instance()"
   ]
  },
  {
   "cell_type": "code",
   "execution_count": 9,
   "metadata": {
    "collapsed": true
   },
   "outputs": [],
   "source": [
    "# assign the owner of 'bob_cat_2' to a different 'Person' 'joe'\n",
    "bob_cat_2.owner = joe\n",
    "bob_cat_2.save()\n",
    "\n",
    "# rename the variable to show the updated owner (not necessary but better naming)\n",
    "joe_cat_2 = bob_cat_2"
   ]
  },
  {
   "cell_type": "markdown",
   "metadata": {},
   "source": [
    "### Retrieving"
   ]
  },
  {
   "cell_type": "code",
   "execution_count": 10,
   "metadata": {
    "collapsed": true
   },
   "outputs": [],
   "source": [
    "bob_from_db = Person.get(Person.name == 'Bob')\n",
    "joe_from_db = Person.get(Person.name == 'Joe')"
   ]
  },
  {
   "cell_type": "code",
   "execution_count": 11,
   "metadata": {},
   "outputs": [
    {
     "name": "stdout",
     "output_type": "stream",
     "text": [
      "Bob True\n",
      "Joe True\n"
     ]
    }
   ],
   "source": [
    "for person in Person.select():\n",
    "    print (person.name, person.is_relative)"
   ]
  },
  {
   "cell_type": "code",
   "execution_count": 12,
   "metadata": {},
   "outputs": [
    {
     "name": "stdout",
     "output_type": "stream",
     "text": [
      "Mittens\n"
     ]
    }
   ],
   "source": [
    "# join two tables for query\n",
    "for pet in Pet.select().join(Person).where(Person.name == 'Bob'):\n",
    "    print (pet.name)"
   ]
  },
  {
   "cell_type": "code",
   "execution_count": 15,
   "metadata": {},
   "outputs": [
    {
     "name": "stdout",
     "output_type": "stream",
     "text": [
      "Mittens\n"
     ]
    }
   ],
   "source": [
    "# alternative - join two tables for query\n",
    "for pet in Pet.select().join(Person).where(Pet.owner == bob):\n",
    "    print (pet.name)"
   ]
  },
  {
   "cell_type": "code",
   "execution_count": 16,
   "metadata": {},
   "outputs": [
    {
     "name": "stdout",
     "output_type": "stream",
     "text": [
      "Bob 1 pets\n",
      "\t Mittens cat\n",
      "Joe 1 pets\n",
      "\t Spots cat\n"
     ]
    }
   ],
   "source": [
    "# Print all 'Pet' data for each 'Person'\n",
    "for person in Person.select():\n",
    "    print (person.name, person.pets.count(), 'pets')\n",
    "    for pet in person.pets:\n",
    "        print ('\\t', pet.name, pet.animal_type)"
   ]
  },
  {
   "cell_type": "code",
   "execution_count": 17,
   "metadata": {
    "collapsed": true
   },
   "outputs": [],
   "source": [
    "# close the database\n",
    "db.close()"
   ]
  },
  {
   "cell_type": "code",
   "execution_count": null,
   "metadata": {
    "collapsed": true
   },
   "outputs": [],
   "source": []
  }
 ],
 "metadata": {
  "kernelspec": {
   "display_name": "Python 3",
   "language": "python",
   "name": "python3"
  },
  "language_info": {
   "codemirror_mode": {
    "name": "ipython",
    "version": 3
   },
   "file_extension": ".py",
   "mimetype": "text/x-python",
   "name": "python",
   "nbconvert_exporter": "python",
   "pygments_lexer": "ipython3",
   "version": "3.6.1"
  }
 },
 "nbformat": 4,
 "nbformat_minor": 2
}
